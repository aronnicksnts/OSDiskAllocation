{
  "nbformat": 4,
  "nbformat_minor": 0,
  "metadata": {
    "colab": {
      "provenance": [],
      "collapsed_sections": []
    },
    "kernelspec": {
      "name": "python3",
      "display_name": "Python 3"
    },
    "language_info": {
      "name": "python"
    }
  },
  "cells": [
    {
      "cell_type": "code",
      "execution_count": 44,
      "metadata": {
        "id": "k5d5wNlxwO6l"
      },
      "outputs": [],
      "source": [
        "import pandas as pd\n",
        "import numpy as np\n",
        "from IPython.display import clear_output"
      ]
    },
    {
      "cell_type": "code",
      "source": [
        "class process:\n",
        "    def __init__(self, size, timeUnit):\n",
        "        self.size = size\n",
        "        self.timeUnit = timeUnit\n",
        "        self.remainTime = self.timeUnit"
      ],
      "metadata": {
        "id": "sE5topS8wfxG"
      },
      "execution_count": null,
      "outputs": []
    },
    {
      "cell_type": "code",
      "source": [
        "def clear():\n",
        "    clear_output(wait=False)"
      ],
      "metadata": {
        "id": "mzt6ZEr2wgy9"
      },
      "execution_count": null,
      "outputs": []
    },
    {
      "cell_type": "code",
      "source": [
        "def createTimeUnitTable(processes: list):\n",
        "    processes = np.asarray(processes)\n",
        "    df = pd.DataFrame(processes.reshape(-1,10))\n",
        "    print(df)"
      ],
      "metadata": {
        "id": "J8wkFE0XwiUF"
      },
      "execution_count": 49,
      "outputs": []
    },
    {
      "cell_type": "code",
      "source": [
        "def first_fit(blockSize, processSize, timeUnit): #TODO: use process class\n",
        "    b = len(blockSize)\n",
        "    p = len(processSize)\n",
        "    o = len(timeUnit)\n",
        "\n",
        "    alloc = [-1] * p\n",
        "    dfalloc = [-1] * p\n",
        "\n",
        "    for i in range(p):\n",
        "      for j in range(b):\n",
        "        if blockSize[j] >= processSize[i]:\n",
        "          alloc[i] = j\n",
        "          blockSize[j] -= processSize[i]\n",
        "          break\n",
        "\n",
        "    #PD DF\n",
        "    for i in range(p):\n",
        "      if alloc[i] != -1:\n",
        "        dfalloc[i] = alloc[i] + 1\n",
        "      else:\n",
        "        dfalloc[i] = 'Not Allocated'\n",
        "    df = pd.DataFrame(np.column_stack([processSize, timeUnit, dfalloc]), columns = ['Process Size', 'Time Unit', 'Block No.'])\n",
        "    df.index += 1\n",
        "    df.index.rename('Process No.', inplace = True)\n",
        "    print(df)\n",
        "\n",
        "    #PRINT FINAL TIME\n",
        "    for j in range(o):\n",
        "      finalTime = sum(timeUnit) - 2\n",
        "\n",
        "    print(\"\\nFinal Time Unit: \", finalTime)   "
      ],
      "metadata": {
        "id": "HfwgVVYewkz1"
      },
      "execution_count": 87,
      "outputs": []
    },
    {
      "cell_type": "code",
      "source": [
        "blockSize = [100, 500, 200, 300, 600]\n",
        "processSize = [212, 417, 112, 426]\n",
        "timeUnit = [2, 3, 5, 6]\n",
        "\n",
        "first_fit(blockSize, processSize, timeUnit)"
      ],
      "metadata": {
        "colab": {
          "base_uri": "https://localhost:8080/"
        },
        "id": "sqHmLpjI7SqF",
        "outputId": "39b18657-d534-4bbe-a6c7-ad5efd5bb2ac"
      },
      "execution_count": 88,
      "outputs": [
        {
          "output_type": "stream",
          "name": "stdout",
          "text": [
            "            Process Size Time Unit      Block No.\n",
            "Process No.                                      \n",
            "1                    212         2              2\n",
            "2                    417         3              5\n",
            "3                    112         5              2\n",
            "4                    426         6  Not Allocated\n",
            "\n",
            "Final Time Unit:  14\n"
          ]
        }
      ]
    },
    {
      "cell_type": "code",
      "source": [
        "def best_fit(blockSize, processSize, timeUnit): #TODO: use process class\n",
        "    b = len(blockSize)\n",
        "    p = len(processSize)\n",
        "    o = len(timeUnit)\n",
        "\n",
        "    alloc = [-1] * p\n",
        "    dfalloc = [-1] * p\n",
        "\n",
        "    for i in range(p):\n",
        "      bestFit = -1\n",
        "\n",
        "    for j in range(b):\n",
        "      if blockSize[j] >= processSize[i]:\n",
        "        if bestFit == -1:\n",
        "          bestFit = j\n",
        "        elif blockSize[bestFit] > blockSize[j]:\n",
        "          bestFit = j\n",
        "    if bestFit != -1:\n",
        "      alloc[i] = bestFit\n",
        "      blockSize[bestFit] -= processSize[i]\n",
        "\n",
        "    #PD DF\n",
        "    for i in range(p):\n",
        "      if alloc[i] != -1:\n",
        "        dfalloc[i] = alloc[i] + 1\n",
        "      else:\n",
        "        dfalloc[i] = 'Not Allocated'\n",
        "    df = pd.DataFrame(np.column_stack([processSize, timeUnit, dfalloc]), columns = ['Process Size', 'Time Unit', 'Block No.'])\n",
        "    df.index += 1\n",
        "    df.index.rename('Process No.', inplace = True)\n",
        "    print(df)\n",
        "\n",
        "    #PRINT FINAL TIME\n",
        "    for j in range(o):\n",
        "      finalTime = sum(timeUnit) - 2\n",
        "    \n",
        "    print(\"\\nFinal Time Unit: \", finalTime)"
      ],
      "metadata": {
        "id": "ALrcD9yS9HuM"
      },
      "execution_count": 89,
      "outputs": []
    },
    {
      "cell_type": "code",
      "source": [
        "blockSize = [400]\n",
        "processSize = [34]\n",
        "timeUnit = [10]\n",
        "\n",
        "best_fit(blockSize, processSize, timeUnit)"
      ],
      "metadata": {
        "colab": {
          "base_uri": "https://localhost:8080/"
        },
        "id": "Z3v-juDm8Z6s",
        "outputId": "22a6634e-be94-4bb4-cdec-b3583040ac24"
      },
      "execution_count": 90,
      "outputs": [
        {
          "output_type": "stream",
          "name": "stdout",
          "text": [
            "             Process Size  Time Unit  Block No.\n",
            "Process No.                                    \n",
            "1                      34         10          1\n",
            "\n",
            "Final Time Unit:  8\n"
          ]
        }
      ]
    }
  ]
}