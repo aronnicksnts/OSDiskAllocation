{
 "cells": [
  {
   "cell_type": "code",
   "execution_count": 10,
   "id": "a5ff0d3f",
   "metadata": {},
   "outputs": [],
   "source": [
    "import pandas as pd\n",
    "import numpy as np\n",
    "from IPython.display import clear_output"
   ]
  },
  {
   "cell_type": "code",
   "execution_count": 34,
   "id": "a3b846a1",
   "metadata": {},
   "outputs": [],
   "source": [
    "class process:\n",
    "    def __init__(self, size, timeUnit):\n",
    "        self.size = size\n",
    "        self.timeUnit = timeUnit\n",
    "        self.remainTime = self.timeUnit"
   ]
  },
  {
   "cell_type": "code",
   "execution_count": 21,
   "id": "d4acc00d",
   "metadata": {},
   "outputs": [],
   "source": [
    "def clear():\n",
    "    clear_output(wait=False)"
   ]
  },
  {
   "cell_type": "code",
   "execution_count": 46,
   "id": "e62b8262",
   "metadata": {},
   "outputs": [],
   "source": [
    "def createTimeUnitTable(processes: list):\n",
    "    processes = np.asarray(processes)\n",
    "    df = pd.DataFrame(processes.reshape(-1,10))\n",
    "    print(df)"
   ]
  },
  {
   "cell_type": "code",
   "execution_count": null,
   "id": "a76e3cf6",
   "metadata": {},
   "outputs": [],
   "source": []
  }
 ],
 "metadata": {
  "kernelspec": {
   "display_name": "Python 3 (ipykernel)",
   "language": "python",
   "name": "python3"
  },
  "language_info": {
   "codemirror_mode": {
    "name": "ipython",
    "version": 3
   },
   "file_extension": ".py",
   "mimetype": "text/x-python",
   "name": "python",
   "nbconvert_exporter": "python",
   "pygments_lexer": "ipython3",
   "version": "3.9.7"
  }
 },
 "nbformat": 4,
 "nbformat_minor": 5
}
