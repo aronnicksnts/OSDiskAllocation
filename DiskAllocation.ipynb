{
 "cells": [
  {
   "cell_type": "code",
   "execution_count": 1,
   "metadata": {
    "id": "k5d5wNlxwO6l"
   },
   "outputs": [],
   "source": [
    "import pandas as pd\n",
    "import numpy as np\n",
    "from IPython.display import clear_output"
   ]
  },
  {
   "cell_type": "code",
   "execution_count": 3,
   "metadata": {
    "id": "mzt6ZEr2wgy9"
   },
   "outputs": [],
   "source": [
    "def clear():\n",
    "    clear_output(wait=False)"
   ]
  },
  {
   "cell_type": "code",
   "execution_count": 4,
   "metadata": {
    "id": "J8wkFE0XwiUF"
   },
   "outputs": [],
   "source": [
    "def createTimeUnitTable(processes: list):\n",
    "    processes = np.asarray(processes)\n",
    "    df = pd.DataFrame(processes.reshape(-1,10))\n",
    "    print(df)"
   ]
  },
  {
   "cell_type": "code",
   "execution_count": 5,
   "metadata": {
    "id": "HfwgVVYewkz1"
   },
   "outputs": [],
   "source": [
    "def first_fit(blockSize, processSize, timeUnit): #TODO: use process class\n",
    "    b = len(blockSize)\n",
    "    p = len(processSize)\n",
    "    o = len(timeUnit)\n",
    "\n",
    "    alloc = [-1] * p\n",
    "    dfalloc = [-1] * p\n",
    "\n",
    "    for i in range(p):\n",
    "      for j in range(b):\n",
    "        if blockSize[j] >= processSize[i]:\n",
    "          alloc[i] = j\n",
    "          blockSize[j] -= processSize[i]\n",
    "          break\n",
    "\n",
    "    #PD DF\n",
    "    for i in range(p):\n",
    "      if alloc[i] != -1:\n",
    "        dfalloc[i] = alloc[i] + 1\n",
    "      else:\n",
    "        dfalloc[i] = 'Not Allocated'\n",
    "    df = pd.DataFrame(np.column_stack([processSize, timeUnit, dfalloc]), columns = ['Process Size', 'Time Unit', 'Block No.'])\n",
    "    df.index += 1\n",
    "    df.index.rename('Process No.', inplace = True)\n",
    "    print(df)\n",
    "\n",
    "    #PRINT FINAL TIME\n",
    "    for j in range(o):\n",
    "      finalTime = sum(timeUnit) - 2\n",
    "\n",
    "    print(\"\\nFinal Time Unit: \", finalTime)   "
   ]
  },
  {
   "cell_type": "code",
   "execution_count": 6,
   "metadata": {
    "colab": {
     "base_uri": "https://localhost:8080/"
    },
    "id": "sqHmLpjI7SqF",
    "outputId": "39b18657-d534-4bbe-a6c7-ad5efd5bb2ac"
   },
   "outputs": [
    {
     "name": "stdout",
     "output_type": "stream",
     "text": [
      "            Process Size Time Unit      Block No.\n",
      "Process No.                                      \n",
      "1                    212         2              2\n",
      "2                    417         3              5\n",
      "3                    112         5              2\n",
      "4                    426         6  Not Allocated\n",
      "\n",
      "Final Time Unit:  14\n"
     ]
    }
   ],
   "source": [
    "blockSize = [100, 500, 200, 300, 600]\n",
    "processSize = [212, 417, 112, 426]\n",
    "timeUnit = [2, 3, 5, 6]\n",
    "\n",
    "first_fit(blockSize, processSize, timeUnit)"
   ]
  },
  {
   "cell_type": "code",
   "execution_count": 7,
   "metadata": {
    "id": "ALrcD9yS9HuM"
   },
   "outputs": [],
   "source": [
    "def best_fit(blockSize, processSize, timeUnit): #TODO: use process class\n",
    "    b = len(blockSize)\n",
    "    p = len(processSize)\n",
    "    o = len(timeUnit)\n",
    "\n",
    "    alloc = [-1] * p\n",
    "    dfalloc = [-1] * p\n",
    "\n",
    "    for i in range(p):\n",
    "      bestFit = -1\n",
    "\n",
    "    for j in range(b):\n",
    "      if blockSize[j] >= processSize[i]:\n",
    "        if bestFit == -1:\n",
    "          bestFit = j\n",
    "        elif blockSize[bestFit] > blockSize[j]:\n",
    "          bestFit = j\n",
    "    if bestFit != -1:\n",
    "      alloc[i] = bestFit\n",
    "      blockSize[bestFit] -= processSize[i]\n",
    "\n",
    "    #PD DF\n",
    "    for i in range(p):\n",
    "      if alloc[i] != -1:\n",
    "        dfalloc[i] = alloc[i] + 1\n",
    "      else:\n",
    "        dfalloc[i] = 'Not Allocated'\n",
    "    df = pd.DataFrame(np.column_stack([processSize, timeUnit, dfalloc]), columns = ['Process Size', 'Time Unit', 'Block No.'])\n",
    "    df.index += 1\n",
    "    df.index.rename('Process No.', inplace = True)\n",
    "    print(df)\n",
    "\n",
    "    #PRINT FINAL TIME\n",
    "    for j in range(o):\n",
    "      finalTime = sum(timeUnit) - 2\n",
    "    \n",
    "    print(\"\\nFinal Time Unit: \", finalTime)"
   ]
  },
  {
   "cell_type": "code",
   "execution_count": 8,
   "metadata": {
    "colab": {
     "base_uri": "https://localhost:8080/"
    },
    "id": "Z3v-juDm8Z6s",
    "outputId": "22a6634e-be94-4bb4-cdec-b3583040ac24"
   },
   "outputs": [
    {
     "name": "stdout",
     "output_type": "stream",
     "text": [
      "             Process Size  Time Unit  Block No.\n",
      "Process No.                                    \n",
      "1                      34         10          1\n",
      "\n",
      "Final Time Unit:  8\n"
     ]
    }
   ],
   "source": [
    "blockSize = [400]\n",
    "processSize = [34]\n",
    "timeUnit = [10]\n",
    "\n",
    "best_fit(blockSize, processSize, timeUnit)"
   ]
  },
  {
   "cell_type": "code",
   "execution_count": 10,
   "metadata": {},
   "outputs": [],
   "source": [
    "def coalescing(memoryBlock:list):\n",
    "    pass\n",
    "def storageCompaction(memoryBlock: list):\n",
    "    pass"
   ]
  },
  {
   "cell_type": "code",
   "execution_count": 17,
   "metadata": {},
   "outputs": [],
   "source": [
    "#Processes = {processNumber: [ProcessSize, TimeUnit]}\n",
    "#MemoryBlock = [[process/hole, size, timeUnitLeft]]\n",
    "#timeUnitTable = [process,process]\n",
    "def first_fit(memory_size: int, processes: dict, sc: int, ch: int):\n",
    "    memoryBlock = [['Free', memory_size]]\n",
    "    currTU = 1\n",
    "    timeUnitTable = []\n",
    "    processList = processes.keys()\n",
    "    while True:\n",
    "        if currTU // sc == 0:\n",
    "            storageCompaction(memoryBlock)\n",
    "        if currTU // ch == 0:\n",
    "            coalescing(memoryBlock)\n",
    "            \n",
    "        for i,memory in enumerate(memoryBlock):\n",
    "            #Check if memory is free\n",
    "            if memory[0] == 'Free':\n",
    "                for process in processList:\n",
    "                    processSize = processes[process][0]\n",
    "                    if processSize <= memory[1]:\n",
    "                        memoryBlock.insert(i, [process, processSize])\n",
    "                        memoryBlock[i+1][2] -= processSize\n",
    "                        processes.remove(process)\n",
    "                        processList.remove(process)\n",
    "                        timeUnitTable.append(process)\n",
    "                        print(timeUnitTable)\n",
    "                        break\n",
    "                else:\n",
    "                    continue\n",
    "                break\n",
    "            else:\n",
    "                #Process time unit\n",
    "                pass\n",
    "                \n",
    "        currTU += 1"
   ]
  },
  {
   "cell_type": "code",
   "execution_count": 18,
   "metadata": {},
   "outputs": [
    {
     "ename": "IndexError",
     "evalue": "list index out of range",
     "output_type": "error",
     "traceback": [
      "\u001b[1;31m---------------------------------------------------------------------------\u001b[0m",
      "\u001b[1;31mIndexError\u001b[0m                                Traceback (most recent call last)",
      "\u001b[1;32m~\\AppData\\Local\\Temp/ipykernel_4040/137849651.py\u001b[0m in \u001b[0;36m<module>\u001b[1;34m\u001b[0m\n\u001b[0;32m      9\u001b[0m \u001b[0msc\u001b[0m \u001b[1;33m=\u001b[0m \u001b[1;36m20\u001b[0m\u001b[1;33m\u001b[0m\u001b[1;33m\u001b[0m\u001b[0m\n\u001b[0;32m     10\u001b[0m \u001b[0mch\u001b[0m \u001b[1;33m=\u001b[0m \u001b[1;36m1\u001b[0m\u001b[1;33m\u001b[0m\u001b[1;33m\u001b[0m\u001b[0m\n\u001b[1;32m---> 11\u001b[1;33m \u001b[0mfirst_fit\u001b[0m\u001b[1;33m(\u001b[0m\u001b[0mmemory_size\u001b[0m\u001b[1;33m,\u001b[0m \u001b[0mprocesses\u001b[0m\u001b[1;33m,\u001b[0m \u001b[0msc\u001b[0m\u001b[1;33m,\u001b[0m \u001b[0mch\u001b[0m\u001b[1;33m)\u001b[0m\u001b[1;33m\u001b[0m\u001b[1;33m\u001b[0m\u001b[0m\n\u001b[0m",
      "\u001b[1;32m~\\AppData\\Local\\Temp/ipykernel_4040/2593364304.py\u001b[0m in \u001b[0;36mfirst_fit\u001b[1;34m(memory_size, processes, sc, ch)\u001b[0m\n\u001b[0;32m     20\u001b[0m                     \u001b[1;32mif\u001b[0m \u001b[0mprocessSize\u001b[0m \u001b[1;33m<=\u001b[0m \u001b[0mmemory\u001b[0m\u001b[1;33m[\u001b[0m\u001b[1;36m1\u001b[0m\u001b[1;33m]\u001b[0m\u001b[1;33m:\u001b[0m\u001b[1;33m\u001b[0m\u001b[1;33m\u001b[0m\u001b[0m\n\u001b[0;32m     21\u001b[0m                         \u001b[0mmemoryBlock\u001b[0m\u001b[1;33m.\u001b[0m\u001b[0minsert\u001b[0m\u001b[1;33m(\u001b[0m\u001b[0mi\u001b[0m\u001b[1;33m,\u001b[0m \u001b[1;33m[\u001b[0m\u001b[0mprocess\u001b[0m\u001b[1;33m,\u001b[0m \u001b[0mprocessSize\u001b[0m\u001b[1;33m]\u001b[0m\u001b[1;33m)\u001b[0m\u001b[1;33m\u001b[0m\u001b[1;33m\u001b[0m\u001b[0m\n\u001b[1;32m---> 22\u001b[1;33m                         \u001b[0mmemoryBlock\u001b[0m\u001b[1;33m[\u001b[0m\u001b[0mi\u001b[0m\u001b[1;33m+\u001b[0m\u001b[1;36m1\u001b[0m\u001b[1;33m]\u001b[0m\u001b[1;33m[\u001b[0m\u001b[1;36m2\u001b[0m\u001b[1;33m]\u001b[0m \u001b[1;33m-=\u001b[0m \u001b[0mprocessSize\u001b[0m\u001b[1;33m\u001b[0m\u001b[1;33m\u001b[0m\u001b[0m\n\u001b[0m\u001b[0;32m     23\u001b[0m                         \u001b[0mprocesses\u001b[0m\u001b[1;33m.\u001b[0m\u001b[0mremove\u001b[0m\u001b[1;33m(\u001b[0m\u001b[0mprocess\u001b[0m\u001b[1;33m)\u001b[0m\u001b[1;33m\u001b[0m\u001b[1;33m\u001b[0m\u001b[0m\n\u001b[0;32m     24\u001b[0m                         \u001b[0mprocessList\u001b[0m\u001b[1;33m.\u001b[0m\u001b[0mremove\u001b[0m\u001b[1;33m(\u001b[0m\u001b[0mprocess\u001b[0m\u001b[1;33m)\u001b[0m\u001b[1;33m\u001b[0m\u001b[1;33m\u001b[0m\u001b[0m\n",
      "\u001b[1;31mIndexError\u001b[0m: list index out of range"
     ]
    }
   ],
   "source": [
    "processes = {1: [500,3],\n",
    "             2: [250,4],\n",
    "             3: [200,5],\n",
    "             4: [350,3],\n",
    "             5: [60,5],\n",
    "             6: [300,3],\n",
    "             7: [400,2]}\n",
    "memory_size = 1000\n",
    "sc = 20\n",
    "ch = 1\n",
    "first_fit(memory_size, processes, sc, ch)"
   ]
  },
  {
   "cell_type": "code",
   "execution_count": null,
   "metadata": {},
   "outputs": [],
   "source": []
  }
 ],
 "metadata": {
  "colab": {
   "collapsed_sections": [],
   "provenance": []
  },
  "kernelspec": {
   "display_name": "Python 3.10.1 64-bit",
   "language": "python",
   "name": "python3"
  },
  "language_info": {
   "codemirror_mode": {
    "name": "ipython",
    "version": 3
   },
   "file_extension": ".py",
   "mimetype": "text/x-python",
   "name": "python",
   "nbconvert_exporter": "python",
   "pygments_lexer": "ipython3",
   "version": "3.10.1"
  },
  "vscode": {
   "interpreter": {
    "hash": "999970afac75590c5beb8d72371db7a9f51495b306c2e6459c7859cbebd76884"
   }
  }
 },
 "nbformat": 4,
 "nbformat_minor": 1
}
