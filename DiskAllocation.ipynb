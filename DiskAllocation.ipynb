{
  "cells": [
    {
      "cell_type": "code",
      "execution_count": 1,
      "metadata": {
        "id": "k5d5wNlxwO6l"
      },
      "outputs": [],
      "source": [
        "import pandas as pd\n",
        "import numpy as np\n",
        "from IPython.display import clear_output"
      ]
    },
    {
      "cell_type": "code",
      "execution_count": 2,
      "metadata": {
        "id": "mzt6ZEr2wgy9"
      },
      "outputs": [],
      "source": [
        "def clear():\n",
        "    clear_output(wait=False)"
      ]
    },
    {
      "cell_type": "code",
      "execution_count": 3,
      "metadata": {
        "id": "J8wkFE0XwiUF"
      },
      "outputs": [],
      "source": [
        "def createTimeUnitTable(processes: list):\n",
        "    processes = np.asarray(processes)\n",
        "    df = pd.DataFrame(processes.reshape(-1,10))\n",
        "    print(df)"
      ]
    },
    {
      "cell_type": "code",
      "execution_count": 4,
      "metadata": {
        "id": "HfwgVVYewkz1"
      },
      "outputs": [],
      "source": [
        "def first_fit(blockSize, processSize, timeUnit): #TODO: use process class\n",
        "    b = len(blockSize)\n",
        "    p = len(processSize)\n",
        "    o = len(timeUnit)\n",
        "\n",
        "    alloc = [-1] * p\n",
        "    dfalloc = [-1] * p\n",
        "\n",
        "    for i in range(p):\n",
        "      for j in range(b):\n",
        "        if blockSize[j] >= processSize[i]:\n",
        "          alloc[i] = j\n",
        "          blockSize[j] -= processSize[i]\n",
        "          break\n",
        "\n",
        "    #PD DF\n",
        "    for i in range(p):\n",
        "      if alloc[i] != -1:\n",
        "        dfalloc[i] = alloc[i] + 1\n",
        "      else:\n",
        "        dfalloc[i] = 'Not Allocated'\n",
        "    df = pd.DataFrame(np.column_stack([processSize, timeUnit, dfalloc]), columns = ['Process Size', 'Time Unit', 'Block No.'])\n",
        "    df.index += 1\n",
        "    df.index.rename('Process No.', inplace = True)\n",
        "    display(df)\n",
        "\n",
        "    #PRINT FINAL TIME\n",
        "    for j in range(o):\n",
        "      finalTime = sum(timeUnit) - 2\n",
        "\n",
        "    print(\"\\nFinal Time Unit: \", finalTime)   "
      ]
    },
    {
      "cell_type": "code",
      "execution_count": 5,
      "metadata": {
        "colab": {
          "base_uri": "https://localhost:8080/",
          "height": 241
        },
        "id": "sqHmLpjI7SqF",
        "outputId": "2136be1e-0eda-41c8-d89f-8373758f6291"
      },
      "outputs": [
        {
          "output_type": "display_data",
          "data": {
            "text/plain": [
              "            Process Size Time Unit      Block No.\n",
              "Process No.                                      \n",
              "1                    212         2              2\n",
              "2                    417         3              5\n",
              "3                    112         5              2\n",
              "4                    426         6  Not Allocated"
            ],
            "text/html": [
              "\n",
              "  <div id=\"df-3d3648f4-c6a4-40e0-8c54-40ffab29f9f6\">\n",
              "    <div class=\"colab-df-container\">\n",
              "      <div>\n",
              "<style scoped>\n",
              "    .dataframe tbody tr th:only-of-type {\n",
              "        vertical-align: middle;\n",
              "    }\n",
              "\n",
              "    .dataframe tbody tr th {\n",
              "        vertical-align: top;\n",
              "    }\n",
              "\n",
              "    .dataframe thead th {\n",
              "        text-align: right;\n",
              "    }\n",
              "</style>\n",
              "<table border=\"1\" class=\"dataframe\">\n",
              "  <thead>\n",
              "    <tr style=\"text-align: right;\">\n",
              "      <th></th>\n",
              "      <th>Process Size</th>\n",
              "      <th>Time Unit</th>\n",
              "      <th>Block No.</th>\n",
              "    </tr>\n",
              "    <tr>\n",
              "      <th>Process No.</th>\n",
              "      <th></th>\n",
              "      <th></th>\n",
              "      <th></th>\n",
              "    </tr>\n",
              "  </thead>\n",
              "  <tbody>\n",
              "    <tr>\n",
              "      <th>1</th>\n",
              "      <td>212</td>\n",
              "      <td>2</td>\n",
              "      <td>2</td>\n",
              "    </tr>\n",
              "    <tr>\n",
              "      <th>2</th>\n",
              "      <td>417</td>\n",
              "      <td>3</td>\n",
              "      <td>5</td>\n",
              "    </tr>\n",
              "    <tr>\n",
              "      <th>3</th>\n",
              "      <td>112</td>\n",
              "      <td>5</td>\n",
              "      <td>2</td>\n",
              "    </tr>\n",
              "    <tr>\n",
              "      <th>4</th>\n",
              "      <td>426</td>\n",
              "      <td>6</td>\n",
              "      <td>Not Allocated</td>\n",
              "    </tr>\n",
              "  </tbody>\n",
              "</table>\n",
              "</div>\n",
              "      <button class=\"colab-df-convert\" onclick=\"convertToInteractive('df-3d3648f4-c6a4-40e0-8c54-40ffab29f9f6')\"\n",
              "              title=\"Convert this dataframe to an interactive table.\"\n",
              "              style=\"display:none;\">\n",
              "        \n",
              "  <svg xmlns=\"http://www.w3.org/2000/svg\" height=\"24px\"viewBox=\"0 0 24 24\"\n",
              "       width=\"24px\">\n",
              "    <path d=\"M0 0h24v24H0V0z\" fill=\"none\"/>\n",
              "    <path d=\"M18.56 5.44l.94 2.06.94-2.06 2.06-.94-2.06-.94-.94-2.06-.94 2.06-2.06.94zm-11 1L8.5 8.5l.94-2.06 2.06-.94-2.06-.94L8.5 2.5l-.94 2.06-2.06.94zm10 10l.94 2.06.94-2.06 2.06-.94-2.06-.94-.94-2.06-.94 2.06-2.06.94z\"/><path d=\"M17.41 7.96l-1.37-1.37c-.4-.4-.92-.59-1.43-.59-.52 0-1.04.2-1.43.59L10.3 9.45l-7.72 7.72c-.78.78-.78 2.05 0 2.83L4 21.41c.39.39.9.59 1.41.59.51 0 1.02-.2 1.41-.59l7.78-7.78 2.81-2.81c.8-.78.8-2.07 0-2.86zM5.41 20L4 18.59l7.72-7.72 1.47 1.35L5.41 20z\"/>\n",
              "  </svg>\n",
              "      </button>\n",
              "      \n",
              "  <style>\n",
              "    .colab-df-container {\n",
              "      display:flex;\n",
              "      flex-wrap:wrap;\n",
              "      gap: 12px;\n",
              "    }\n",
              "\n",
              "    .colab-df-convert {\n",
              "      background-color: #E8F0FE;\n",
              "      border: none;\n",
              "      border-radius: 50%;\n",
              "      cursor: pointer;\n",
              "      display: none;\n",
              "      fill: #1967D2;\n",
              "      height: 32px;\n",
              "      padding: 0 0 0 0;\n",
              "      width: 32px;\n",
              "    }\n",
              "\n",
              "    .colab-df-convert:hover {\n",
              "      background-color: #E2EBFA;\n",
              "      box-shadow: 0px 1px 2px rgba(60, 64, 67, 0.3), 0px 1px 3px 1px rgba(60, 64, 67, 0.15);\n",
              "      fill: #174EA6;\n",
              "    }\n",
              "\n",
              "    [theme=dark] .colab-df-convert {\n",
              "      background-color: #3B4455;\n",
              "      fill: #D2E3FC;\n",
              "    }\n",
              "\n",
              "    [theme=dark] .colab-df-convert:hover {\n",
              "      background-color: #434B5C;\n",
              "      box-shadow: 0px 1px 3px 1px rgba(0, 0, 0, 0.15);\n",
              "      filter: drop-shadow(0px 1px 2px rgba(0, 0, 0, 0.3));\n",
              "      fill: #FFFFFF;\n",
              "    }\n",
              "  </style>\n",
              "\n",
              "      <script>\n",
              "        const buttonEl =\n",
              "          document.querySelector('#df-3d3648f4-c6a4-40e0-8c54-40ffab29f9f6 button.colab-df-convert');\n",
              "        buttonEl.style.display =\n",
              "          google.colab.kernel.accessAllowed ? 'block' : 'none';\n",
              "\n",
              "        async function convertToInteractive(key) {\n",
              "          const element = document.querySelector('#df-3d3648f4-c6a4-40e0-8c54-40ffab29f9f6');\n",
              "          const dataTable =\n",
              "            await google.colab.kernel.invokeFunction('convertToInteractive',\n",
              "                                                     [key], {});\n",
              "          if (!dataTable) return;\n",
              "\n",
              "          const docLinkHtml = 'Like what you see? Visit the ' +\n",
              "            '<a target=\"_blank\" href=https://colab.research.google.com/notebooks/data_table.ipynb>data table notebook</a>'\n",
              "            + ' to learn more about interactive tables.';\n",
              "          element.innerHTML = '';\n",
              "          dataTable['output_type'] = 'display_data';\n",
              "          await google.colab.output.renderOutput(dataTable, element);\n",
              "          const docLink = document.createElement('div');\n",
              "          docLink.innerHTML = docLinkHtml;\n",
              "          element.appendChild(docLink);\n",
              "        }\n",
              "      </script>\n",
              "    </div>\n",
              "  </div>\n",
              "  "
            ]
          },
          "metadata": {}
        },
        {
          "output_type": "stream",
          "name": "stdout",
          "text": [
            "\n",
            "Final Time Unit:  14\n"
          ]
        }
      ],
      "source": [
        "blockSize = [100, 500, 200, 300, 600]\n",
        "processSize = [212, 417, 112, 426]\n",
        "timeUnit = [2, 3, 5, 6]\n",
        "\n",
        "first_fit(blockSize, processSize, timeUnit)"
      ]
    },
    {
      "cell_type": "code",
      "execution_count": 7,
      "metadata": {
        "id": "ALrcD9yS9HuM"
      },
      "outputs": [],
      "source": [
        "def best_fit(blockSize, processSize, timeUnit): #TODO: use process class\n",
        "    b = len(blockSize)\n",
        "    p = len(processSize)\n",
        "    o = len(timeUnit)\n",
        "\n",
        "    alloc = [-1] * p\n",
        "    dfalloc = [-1] * p\n",
        "\n",
        "    for i in range(p):\n",
        "      bestFit = -1\n",
        "\n",
        "    for j in range(b):\n",
        "      if blockSize[j] >= processSize[i]:\n",
        "        if bestFit == -1:\n",
        "          bestFit = j\n",
        "        elif blockSize[bestFit] > blockSize[j]:\n",
        "          bestFit = j\n",
        "    if bestFit != -1:\n",
        "      alloc[i] = bestFit\n",
        "      blockSize[bestFit] -= processSize[i]\n",
        "\n",
        "    #PD DF\n",
        "    for i in range(p):\n",
        "      if alloc[i] != -1:\n",
        "        dfalloc[i] = alloc[i] + 1\n",
        "      else:\n",
        "        dfalloc[i] = 'Not Allocated'\n",
        "    df = pd.DataFrame(np.column_stack([processSize, timeUnit, dfalloc]), columns = ['Process Size', 'Time Unit', 'Block No.'])\n",
        "    df.index += 1\n",
        "    df.index.rename('Process No.', inplace = True)\n",
        "    display(df)\n",
        "\n",
        "    #PRINT FINAL TIME\n",
        "    for j in range(o):\n",
        "      finalTime = sum(timeUnit) - 2\n",
        "    \n",
        "    print(\"\\nFinal Time Unit: \", finalTime)"
      ]
    },
    {
      "cell_type": "code",
      "execution_count": 8,
      "metadata": {
        "colab": {
          "base_uri": "https://localhost:8080/",
          "height": 147
        },
        "id": "Z3v-juDm8Z6s",
        "outputId": "cc37eb84-3af7-4598-96a1-799061a9decf"
      },
      "outputs": [
        {
          "output_type": "display_data",
          "data": {
            "text/plain": [
              "             Process Size  Time Unit  Block No.\n",
              "Process No.                                    \n",
              "1                      34         10          1"
            ],
            "text/html": [
              "\n",
              "  <div id=\"df-2f95fac2-1e71-48a6-b4eb-b81480dd66bf\">\n",
              "    <div class=\"colab-df-container\">\n",
              "      <div>\n",
              "<style scoped>\n",
              "    .dataframe tbody tr th:only-of-type {\n",
              "        vertical-align: middle;\n",
              "    }\n",
              "\n",
              "    .dataframe tbody tr th {\n",
              "        vertical-align: top;\n",
              "    }\n",
              "\n",
              "    .dataframe thead th {\n",
              "        text-align: right;\n",
              "    }\n",
              "</style>\n",
              "<table border=\"1\" class=\"dataframe\">\n",
              "  <thead>\n",
              "    <tr style=\"text-align: right;\">\n",
              "      <th></th>\n",
              "      <th>Process Size</th>\n",
              "      <th>Time Unit</th>\n",
              "      <th>Block No.</th>\n",
              "    </tr>\n",
              "    <tr>\n",
              "      <th>Process No.</th>\n",
              "      <th></th>\n",
              "      <th></th>\n",
              "      <th></th>\n",
              "    </tr>\n",
              "  </thead>\n",
              "  <tbody>\n",
              "    <tr>\n",
              "      <th>1</th>\n",
              "      <td>34</td>\n",
              "      <td>10</td>\n",
              "      <td>1</td>\n",
              "    </tr>\n",
              "  </tbody>\n",
              "</table>\n",
              "</div>\n",
              "      <button class=\"colab-df-convert\" onclick=\"convertToInteractive('df-2f95fac2-1e71-48a6-b4eb-b81480dd66bf')\"\n",
              "              title=\"Convert this dataframe to an interactive table.\"\n",
              "              style=\"display:none;\">\n",
              "        \n",
              "  <svg xmlns=\"http://www.w3.org/2000/svg\" height=\"24px\"viewBox=\"0 0 24 24\"\n",
              "       width=\"24px\">\n",
              "    <path d=\"M0 0h24v24H0V0z\" fill=\"none\"/>\n",
              "    <path d=\"M18.56 5.44l.94 2.06.94-2.06 2.06-.94-2.06-.94-.94-2.06-.94 2.06-2.06.94zm-11 1L8.5 8.5l.94-2.06 2.06-.94-2.06-.94L8.5 2.5l-.94 2.06-2.06.94zm10 10l.94 2.06.94-2.06 2.06-.94-2.06-.94-.94-2.06-.94 2.06-2.06.94z\"/><path d=\"M17.41 7.96l-1.37-1.37c-.4-.4-.92-.59-1.43-.59-.52 0-1.04.2-1.43.59L10.3 9.45l-7.72 7.72c-.78.78-.78 2.05 0 2.83L4 21.41c.39.39.9.59 1.41.59.51 0 1.02-.2 1.41-.59l7.78-7.78 2.81-2.81c.8-.78.8-2.07 0-2.86zM5.41 20L4 18.59l7.72-7.72 1.47 1.35L5.41 20z\"/>\n",
              "  </svg>\n",
              "      </button>\n",
              "      \n",
              "  <style>\n",
              "    .colab-df-container {\n",
              "      display:flex;\n",
              "      flex-wrap:wrap;\n",
              "      gap: 12px;\n",
              "    }\n",
              "\n",
              "    .colab-df-convert {\n",
              "      background-color: #E8F0FE;\n",
              "      border: none;\n",
              "      border-radius: 50%;\n",
              "      cursor: pointer;\n",
              "      display: none;\n",
              "      fill: #1967D2;\n",
              "      height: 32px;\n",
              "      padding: 0 0 0 0;\n",
              "      width: 32px;\n",
              "    }\n",
              "\n",
              "    .colab-df-convert:hover {\n",
              "      background-color: #E2EBFA;\n",
              "      box-shadow: 0px 1px 2px rgba(60, 64, 67, 0.3), 0px 1px 3px 1px rgba(60, 64, 67, 0.15);\n",
              "      fill: #174EA6;\n",
              "    }\n",
              "\n",
              "    [theme=dark] .colab-df-convert {\n",
              "      background-color: #3B4455;\n",
              "      fill: #D2E3FC;\n",
              "    }\n",
              "\n",
              "    [theme=dark] .colab-df-convert:hover {\n",
              "      background-color: #434B5C;\n",
              "      box-shadow: 0px 1px 3px 1px rgba(0, 0, 0, 0.15);\n",
              "      filter: drop-shadow(0px 1px 2px rgba(0, 0, 0, 0.3));\n",
              "      fill: #FFFFFF;\n",
              "    }\n",
              "  </style>\n",
              "\n",
              "      <script>\n",
              "        const buttonEl =\n",
              "          document.querySelector('#df-2f95fac2-1e71-48a6-b4eb-b81480dd66bf button.colab-df-convert');\n",
              "        buttonEl.style.display =\n",
              "          google.colab.kernel.accessAllowed ? 'block' : 'none';\n",
              "\n",
              "        async function convertToInteractive(key) {\n",
              "          const element = document.querySelector('#df-2f95fac2-1e71-48a6-b4eb-b81480dd66bf');\n",
              "          const dataTable =\n",
              "            await google.colab.kernel.invokeFunction('convertToInteractive',\n",
              "                                                     [key], {});\n",
              "          if (!dataTable) return;\n",
              "\n",
              "          const docLinkHtml = 'Like what you see? Visit the ' +\n",
              "            '<a target=\"_blank\" href=https://colab.research.google.com/notebooks/data_table.ipynb>data table notebook</a>'\n",
              "            + ' to learn more about interactive tables.';\n",
              "          element.innerHTML = '';\n",
              "          dataTable['output_type'] = 'display_data';\n",
              "          await google.colab.output.renderOutput(dataTable, element);\n",
              "          const docLink = document.createElement('div');\n",
              "          docLink.innerHTML = docLinkHtml;\n",
              "          element.appendChild(docLink);\n",
              "        }\n",
              "      </script>\n",
              "    </div>\n",
              "  </div>\n",
              "  "
            ]
          },
          "metadata": {}
        },
        {
          "output_type": "stream",
          "name": "stdout",
          "text": [
            "\n",
            "Final Time Unit:  8\n"
          ]
        }
      ],
      "source": [
        "blockSize = [400]\n",
        "processSize = [34]\n",
        "timeUnit = [10]\n",
        "\n",
        "best_fit(blockSize, processSize, timeUnit)"
      ]
    },
    {
      "cell_type": "code",
      "execution_count": null,
      "metadata": {
        "id": "p2MHDozphh5H"
      },
      "outputs": [],
      "source": [
        "def coalescing(memoryBlock:list):\n",
        "    pass\n",
        "def storageCompaction(memoryBlock: list):\n",
        "    pass"
      ]
    },
    {
      "cell_type": "code",
      "execution_count": null,
      "metadata": {
        "id": "WMPYpWSyhh5H"
      },
      "outputs": [],
      "source": [
        "#Processes = {processNumber: [ProcessSize, TimeUnit]}\n",
        "#MemoryBlock = [[process/hole, size, timeUnitLeft]]\n",
        "#timeUnitTable = [process,process]\n",
        "def first_fit(memory_size: int, processes: dict, sc: int, ch: int):\n",
        "    memoryBlock = [['Free', memory_size]]\n",
        "    currTU = 1\n",
        "    timeUnitTable = []\n",
        "    processList = processes.keys()\n",
        "    while True:\n",
        "        if currTU // sc == 0:\n",
        "            storageCompaction(memoryBlock)\n",
        "        if currTU // ch == 0:\n",
        "            coalescing(memoryBlock)\n",
        "            \n",
        "        for i,memory in enumerate(memoryBlock):\n",
        "            #Check if memory is free\n",
        "            if memory[0] == 'Free':\n",
        "                for process in processList:\n",
        "                    processSize = processes[process][0]\n",
        "                    if processSize <= memory[1]:\n",
        "                        memoryBlock.insert(i, [process, processSize])\n",
        "                        memoryBlock[i+1][2] -= processSize\n",
        "                        processes.remove(process)\n",
        "                        processList.remove(process)\n",
        "                        timeUnitTable.append(process)\n",
        "                        print(timeUnitTable)\n",
        "                        break\n",
        "                else:\n",
        "                    continue\n",
        "                break\n",
        "            else:\n",
        "                #Process time unit\n",
        "                pass\n",
        "                \n",
        "        currTU += 1"
      ]
    },
    {
      "cell_type": "code",
      "execution_count": null,
      "metadata": {
        "id": "RjsudwD9hh5I",
        "outputId": "afba4f26-377a-4022-c357-229c2bea0c50"
      },
      "outputs": [
        {
          "ename": "IndexError",
          "evalue": "list index out of range",
          "output_type": "error",
          "traceback": [
            "\u001b[1;31m---------------------------------------------------------------------------\u001b[0m",
            "\u001b[1;31mIndexError\u001b[0m                                Traceback (most recent call last)",
            "\u001b[1;32m~\\AppData\\Local\\Temp/ipykernel_4040/137849651.py\u001b[0m in \u001b[0;36m<module>\u001b[1;34m\u001b[0m\n\u001b[0;32m      9\u001b[0m \u001b[0msc\u001b[0m \u001b[1;33m=\u001b[0m \u001b[1;36m20\u001b[0m\u001b[1;33m\u001b[0m\u001b[1;33m\u001b[0m\u001b[0m\n\u001b[0;32m     10\u001b[0m \u001b[0mch\u001b[0m \u001b[1;33m=\u001b[0m \u001b[1;36m1\u001b[0m\u001b[1;33m\u001b[0m\u001b[1;33m\u001b[0m\u001b[0m\n\u001b[1;32m---> 11\u001b[1;33m \u001b[0mfirst_fit\u001b[0m\u001b[1;33m(\u001b[0m\u001b[0mmemory_size\u001b[0m\u001b[1;33m,\u001b[0m \u001b[0mprocesses\u001b[0m\u001b[1;33m,\u001b[0m \u001b[0msc\u001b[0m\u001b[1;33m,\u001b[0m \u001b[0mch\u001b[0m\u001b[1;33m)\u001b[0m\u001b[1;33m\u001b[0m\u001b[1;33m\u001b[0m\u001b[0m\n\u001b[0m",
            "\u001b[1;32m~\\AppData\\Local\\Temp/ipykernel_4040/2593364304.py\u001b[0m in \u001b[0;36mfirst_fit\u001b[1;34m(memory_size, processes, sc, ch)\u001b[0m\n\u001b[0;32m     20\u001b[0m                     \u001b[1;32mif\u001b[0m \u001b[0mprocessSize\u001b[0m \u001b[1;33m<=\u001b[0m \u001b[0mmemory\u001b[0m\u001b[1;33m[\u001b[0m\u001b[1;36m1\u001b[0m\u001b[1;33m]\u001b[0m\u001b[1;33m:\u001b[0m\u001b[1;33m\u001b[0m\u001b[1;33m\u001b[0m\u001b[0m\n\u001b[0;32m     21\u001b[0m                         \u001b[0mmemoryBlock\u001b[0m\u001b[1;33m.\u001b[0m\u001b[0minsert\u001b[0m\u001b[1;33m(\u001b[0m\u001b[0mi\u001b[0m\u001b[1;33m,\u001b[0m \u001b[1;33m[\u001b[0m\u001b[0mprocess\u001b[0m\u001b[1;33m,\u001b[0m \u001b[0mprocessSize\u001b[0m\u001b[1;33m]\u001b[0m\u001b[1;33m)\u001b[0m\u001b[1;33m\u001b[0m\u001b[1;33m\u001b[0m\u001b[0m\n\u001b[1;32m---> 22\u001b[1;33m                         \u001b[0mmemoryBlock\u001b[0m\u001b[1;33m[\u001b[0m\u001b[0mi\u001b[0m\u001b[1;33m+\u001b[0m\u001b[1;36m1\u001b[0m\u001b[1;33m]\u001b[0m\u001b[1;33m[\u001b[0m\u001b[1;36m2\u001b[0m\u001b[1;33m]\u001b[0m \u001b[1;33m-=\u001b[0m \u001b[0mprocessSize\u001b[0m\u001b[1;33m\u001b[0m\u001b[1;33m\u001b[0m\u001b[0m\n\u001b[0m\u001b[0;32m     23\u001b[0m                         \u001b[0mprocesses\u001b[0m\u001b[1;33m.\u001b[0m\u001b[0mremove\u001b[0m\u001b[1;33m(\u001b[0m\u001b[0mprocess\u001b[0m\u001b[1;33m)\u001b[0m\u001b[1;33m\u001b[0m\u001b[1;33m\u001b[0m\u001b[0m\n\u001b[0;32m     24\u001b[0m                         \u001b[0mprocessList\u001b[0m\u001b[1;33m.\u001b[0m\u001b[0mremove\u001b[0m\u001b[1;33m(\u001b[0m\u001b[0mprocess\u001b[0m\u001b[1;33m)\u001b[0m\u001b[1;33m\u001b[0m\u001b[1;33m\u001b[0m\u001b[0m\n",
            "\u001b[1;31mIndexError\u001b[0m: list index out of range"
          ]
        }
      ],
      "source": [
        "processes = {1: [500,3],\n",
        "             2: [250,4],\n",
        "             3: [200,5],\n",
        "             4: [350,3],\n",
        "             5: [60,5],\n",
        "             6: [300,3],\n",
        "             7: [400,2]}\n",
        "memory_size = 1000\n",
        "sc = 20\n",
        "ch = 1\n",
        "first_fit(memory_size, processes, sc, ch)"
      ]
    },
    {
      "cell_type": "code",
      "execution_count": 23,
      "metadata": {
        "id": "MGdid_R2hh5J"
      },
      "outputs": [],
      "source": [
        "def user_input():\n",
        "  waitingAlgo = True;\n",
        "  blockSize = []  \n",
        "  processSize = [] \n",
        "  processTimeUnit = []\n",
        "\n",
        "  blockSize = input(\"Enter Block Size: \")\n",
        "  processSize = list(map(int, input(\"Enter Process Size (Separate w/ spaces): \").strip().split()))\n",
        "  processTimeUnit = list(map(int, input(\"Enter Time Unit (Separate w/ spaces): \").strip().split()))\n",
        "  algo = input(\"Choose between first fit (1) or best fit (2) algorithm: \")\n",
        "  \n",
        "  while(waitingAlgo == True):\n",
        "    if algo == '1':\n",
        "      waitingAlgo = False\n",
        "      #first fit\n",
        "    elif algo == '2':\n",
        "      waitingAlgo = False\n",
        "      #best fit\n",
        "    else:\n",
        "      algo = input(\"Invalid input. Please choose 1 for first fit, or 2 for best fit: \")\n"
      ]
    },
    {
      "cell_type": "code",
      "source": [
        "user_input()"
      ],
      "metadata": {
        "colab": {
          "base_uri": "https://localhost:8080/"
        },
        "id": "oFjbl6KNpG81",
        "outputId": "60620516-73ba-46c6-cfcd-bb7493d98bca"
      },
      "execution_count": 24,
      "outputs": [
        {
          "name": "stdout",
          "output_type": "stream",
          "text": [
            "Enter Block Size: 100\n",
            "Enter Process Size (Separate w/ spaces): 9 9 9 9\n",
            "Enter Time Unit (Separate w/ spaces): 9 9 9 9\n",
            "Choose between first fit (1) or best fit (2) algorithm: 5\n",
            "Invalid input. Please choose 1 for first fit, or 2 for best fit: 1\n"
          ]
        }
      ]
    }
  ],
  "metadata": {
    "colab": {
      "collapsed_sections": [],
      "provenance": []
    },
    "kernelspec": {
      "display_name": "Python 3.10.1 64-bit",
      "language": "python",
      "name": "python3"
    },
    "language_info": {
      "codemirror_mode": {
        "name": "ipython",
        "version": 3
      },
      "file_extension": ".py",
      "mimetype": "text/x-python",
      "name": "python",
      "nbconvert_exporter": "python",
      "pygments_lexer": "ipython3",
      "version": "3.10.1"
    },
    "vscode": {
      "interpreter": {
        "hash": "999970afac75590c5beb8d72371db7a9f51495b306c2e6459c7859cbebd76884"
      }
    }
  },
  "nbformat": 4,
  "nbformat_minor": 0
}